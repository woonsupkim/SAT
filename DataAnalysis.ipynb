{
 "cells": [
  {
   "cell_type": "code",
   "execution_count": 66,
   "metadata": {},
   "outputs": [],
   "source": [
    "import pandas as pd\n",
    "from PIL import Image\n",
    "import base64\n",
    "from io import BytesIO\n",
    "import os"
   ]
  },
  {
   "cell_type": "code",
   "execution_count": 67,
   "metadata": {},
   "outputs": [],
   "source": [
    "data = pd.read_csv('SAT_Question_Bank_Results.csv')\n",
    "df = pd.read_pickle('images_dataframe.pkl')"
   ]
  },
  {
   "cell_type": "code",
   "execution_count": 68,
   "metadata": {},
   "outputs": [],
   "source": [
    "# Function to convert base64 string to image\n",
    "def base64_to_image(base64_string):\n",
    "    img_data = base64.b64decode(base64_string)\n",
    "    img = Image.open(BytesIO(img_data))\n",
    "    return img"
   ]
  },
  {
   "cell_type": "code",
   "execution_count": 69,
   "metadata": {},
   "outputs": [],
   "source": [
    "img = base64_to_image(df['Question Image2'][2])\n",
    "img.show()"
   ]
  },
  {
   "cell_type": "code",
   "execution_count": 28,
   "metadata": {},
   "outputs": [],
   "source": [
    "# Directory to save recreated images (optional)\n",
    "recreate_dir = 'question_images/'\n",
    "os.makedirs(recreate_dir, exist_ok=True)\n",
    "\n",
    "# Iterate over the DataFrame and recreate the images\n",
    "for index, row in df.iterrows():\n",
    "    base64_str = row['Question Image2']\n",
    "    if base64_str:  # Check if the base64 string is not empty\n",
    "        img = base64_to_image(base64_str)\n",
    "        img.save(os.path.join(recreate_dir, f'recreated_image_{index}.png'))"
   ]
  },
  {
   "cell_type": "code",
   "execution_count": 29,
   "metadata": {},
   "outputs": [],
   "source": [
    "# Directory to save recreated images (optional)\n",
    "recreate_dir = 'rationale_images/'\n",
    "os.makedirs(recreate_dir, exist_ok=True)\n",
    "\n",
    "# Iterate over the DataFrame and recreate the images\n",
    "for index, row in df.iterrows():\n",
    "    base64_str = row['Rationale Image2']\n",
    "    if base64_str:  # Check if the base64 string is not empty\n",
    "        img = base64_to_image(base64_str)\n",
    "        img.save(os.path.join(recreate_dir, f'recreated_image_{index}.png'))"
   ]
  },
  {
   "cell_type": "code",
   "execution_count": 31,
   "metadata": {},
   "outputs": [],
   "source": [
    "img = base64_to_image(data['Question Image2'][10])\n",
    "img.show()"
   ]
  },
  {
   "cell_type": "markdown",
   "metadata": {},
   "source": [
    "# AI: Predict Next Steps"
   ]
  },
  {
   "cell_type": "markdown",
   "metadata": {},
   "source": [
    "Based on student's performance, predict how they will answer new questions, suggest the ones that they would get wrong in varrying difficulty (challenging)."
   ]
  },
  {
   "cell_type": "code",
   "execution_count": 16,
   "metadata": {},
   "outputs": [],
   "source": [
    "data = pd.read_csv('SAT_Question_Bank_Results.csv')\n",
    "\n",
    "from sklearn.preprocessing import LabelEncoder\n",
    "\n",
    "le = LabelEncoder()\n",
    "data['Skill'] = le.fit_transform(data['Skill'])\n",
    "data['Question Difficulty'] = le.fit_transform(data['Question Difficulty'])\n",
    "\n",
    "\n",
    "from sklearn.model_selection import train_test_split\n",
    "from sklearn.ensemble import RandomForestClassifier\n",
    "\n",
    "# Feature and target selection\n",
    "X = data[['Skill', 'Question Difficulty', 'time_spent']]\n",
    "y = data['Correct']\n",
    "\n",
    "# Split data into training and testing sets\n",
    "X_train, X_test, y_train, y_test = train_test_split(X, y, test_size=0.2, random_state=42)\n",
    "\n",
    "# Train a model\n",
    "model = RandomForestClassifier(n_estimators=100)\n",
    "model.fit(X_train, y_train)\n",
    "\n",
    "# Predicting the score for a new lesson\n",
    "new_lesson = X_test #pd.DataFrame({'Question_ID': [103], 'time_spent': [28]})\n",
    "predicted_score = model.predict(new_lesson)\n",
    "\n",
    "# choosing next question\n",
    "new_lesson['predicted_answer'] = predicted_score\n",
    "new_lesson_sorted = new_lesson.sort_values(by='Question Difficulty', ascending=True).reset_index(drop=True)\n",
    "new_lesson_sorted = new_lesson_sorted[new_lesson_sorted['predicted_answer'] == 0].head(1)"
   ]
  },
  {
   "cell_type": "code",
   "execution_count": 17,
   "metadata": {},
   "outputs": [
    {
     "data": {
      "text/plain": [
       "array([0, 0, 0, 0, 0, 0, 0, 0, 0, 0, 0, 0, 0, 0, 0, 0, 0, 0, 0, 0, 0, 0],\n",
       "      dtype=int64)"
      ]
     },
     "execution_count": 17,
     "metadata": {},
     "output_type": "execute_result"
    }
   ],
   "source": [
    "predicted_score"
   ]
  },
  {
   "cell_type": "code",
   "execution_count": 31,
   "metadata": {},
   "outputs": [],
   "source": [
    " data.to_csv('SAT_Question_Bank_Results.csv', index=False)"
   ]
  }
 ],
 "metadata": {
  "kernelspec": {
   "display_name": ".venv",
   "language": "python",
   "name": "python3"
  },
  "language_info": {
   "codemirror_mode": {
    "name": "ipython",
    "version": 3
   },
   "file_extension": ".py",
   "mimetype": "text/x-python",
   "name": "python",
   "nbconvert_exporter": "python",
   "pygments_lexer": "ipython3",
   "version": "3.10.1"
  }
 },
 "nbformat": 4,
 "nbformat_minor": 2
}
